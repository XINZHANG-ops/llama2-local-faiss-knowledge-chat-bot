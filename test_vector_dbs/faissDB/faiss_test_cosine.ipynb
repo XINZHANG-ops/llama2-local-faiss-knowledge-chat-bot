{
 "cells": [
  {
   "cell_type": "code",
   "execution_count": 1,
   "id": "bc60b595-660e-465f-88cc-d12689c16d58",
   "metadata": {},
   "outputs": [],
   "source": [
    "import numpy as np\n",
    "from tqdm import tqdm\n",
    "from faissDB import faissDB\n",
    "import pickle\n",
    "import faiss\n",
    "from sklearn.metrics import accuracy_score"
   ]
  },
  {
   "cell_type": "code",
   "execution_count": 2,
   "id": "bde51439-70e3-43a4-8b8d-80bf397c383f",
   "metadata": {},
   "outputs": [
    {
     "data": {
      "text/plain": [
       "'\\ntype_name_map = {\\n    \"0\": \"IndexFlatL2\",\\n    \"1\": \"IndexFlatIP\",\\n    \"2\": \"IndexHNSWFlat\",\\n    \"3\": \"IndexIVFFlat\",\\n    \"4\": \"IndexLSH\",\\n    \"5\": \"IndexScalarQuantizer\",\\n    \"6\": \"IndexPQ\",\\n    \"7\": \"IndexIVFScalarQuantizer\",\\n    \"8\": \"IndexIVFPQ\",\\n    \"9\": \"IndexIVFPQR\"\\n}\\n\\n'"
      ]
     },
     "execution_count": 2,
     "metadata": {},
     "output_type": "execute_result"
    }
   ],
   "source": [
    "\"\"\"\n",
    "type_name_map = {\n",
    "    \"0\": \"IndexFlatL2\",\n",
    "    \"1\": \"IndexFlatIP\",\n",
    "    \"2\": \"IndexHNSWFlat\",\n",
    "    \"3\": \"IndexIVFFlat\",\n",
    "    \"4\": \"IndexLSH\",\n",
    "    \"5\": \"IndexScalarQuantizer\",\n",
    "    \"6\": \"IndexPQ\",\n",
    "    \"7\": \"IndexIVFScalarQuantizer\",\n",
    "    \"8\": \"IndexIVFPQ\",\n",
    "    \"9\": \"IndexIVFPQR\"\n",
    "}\n",
    "\n",
    "\"\"\""
   ]
  },
  {
   "cell_type": "markdown",
   "id": "23f6a1f0-0d38-4e65-84fd-0bca3e0ecfda",
   "metadata": {},
   "source": [
    "# cosine"
   ]
  },
  {
   "cell_type": "markdown",
   "id": "c8059206-b376-4f82-af82-26c878d64ae8",
   "metadata": {},
   "source": [
    "## on same vectors"
   ]
  },
  {
   "cell_type": "code",
   "execution_count": 3,
   "id": "daffd17e-6410-49d1-a255-e9905e3ae2d4",
   "metadata": {},
   "outputs": [],
   "source": [
    "data_name = \"same_data_test\"\n",
    "metric = \"cosine\"\n",
    "dimension = 2000\n",
    "\n",
    "with open(f'../test_data/{data_name}.pkl', 'rb') as f:\n",
    "    cosine_reals, euclidean_reals, train_data, test_data, train_ids = pickle.load(f)"
   ]
  },
  {
   "cell_type": "markdown",
   "id": "c3746bd5-e835-4945-a6ee-95d4a3c39219",
   "metadata": {},
   "source": [
    "### type 0 IndexFlatL2"
   ]
  },
  {
   "cell_type": "code",
   "execution_count": 4,
   "id": "844eb5b7-0c06-4d55-9c1f-1168c7d587ce",
   "metadata": {},
   "outputs": [
    {
     "name": "stdout",
     "output_type": "stream",
     "text": [
      "CPU times: user 1.69 s, sys: 206 ms, total: 1.9 s\n",
      "Wall time: 1.87 s\n"
     ]
    }
   ],
   "source": [
    "%%time\n",
    "\n",
    "index_type=\"0\"\n",
    "db = faissDB(index_type, metric=metric, d=dimension)\n",
    "db.add(train_data, train_ids)"
   ]
  },
  {
   "cell_type": "code",
   "execution_count": 5,
   "id": "8fac6225-e9f3-417e-b843-ba7a09d9943e",
   "metadata": {},
   "outputs": [],
   "source": [
    "db.save()\n",
    "db2 = faissDB.load(db.index_name)"
   ]
  },
  {
   "cell_type": "code",
   "execution_count": 6,
   "id": "40882803-038b-4935-8c9f-77123175428b",
   "metadata": {},
   "outputs": [
    {
     "name": "stdout",
     "output_type": "stream",
     "text": [
      "CPU times: user 8.01 s, sys: 224 ms, total: 8.23 s\n",
      "Wall time: 7.51 s\n"
     ]
    }
   ],
   "source": [
    "%%time\n",
    "preds = [f\"{i[0]}\" for i in db2.query(test_data, 1)[1]]"
   ]
  },
  {
   "cell_type": "code",
   "execution_count": 7,
   "id": "efa89c78-11d6-4483-b1bc-944d1d16e714",
   "metadata": {
    "tags": []
   },
   "outputs": [
    {
     "data": {
      "text/plain": [
       "1.0"
      ]
     },
     "execution_count": 7,
     "metadata": {},
     "output_type": "execute_result"
    }
   ],
   "source": [
    "accuracy_score(cosine_reals, preds)"
   ]
  },
  {
   "cell_type": "code",
   "execution_count": null,
   "id": "fe5b0dee-1434-4820-a50b-98b0c4281cc1",
   "metadata": {},
   "outputs": [],
   "source": []
  },
  {
   "cell_type": "markdown",
   "id": "fe79d241-5c65-43e0-adbb-f27d77ed024a",
   "metadata": {},
   "source": [
    "### type 1 IndexFlatIP"
   ]
  },
  {
   "cell_type": "code",
   "execution_count": 20,
   "id": "cdbfea7d-5802-4fab-83da-b8b5df19b1df",
   "metadata": {},
   "outputs": [
    {
     "name": "stdout",
     "output_type": "stream",
     "text": [
      "CPU times: user 1.73 s, sys: 197 ms, total: 1.92 s\n",
      "Wall time: 1.9 s\n"
     ]
    }
   ],
   "source": [
    "%%time\n",
    "\n",
    "index_type=\"1\"\n",
    "db = faissDB(index_type, metric=metric, d=dimension)\n",
    "db.add(train_data, train_ids)"
   ]
  },
  {
   "cell_type": "code",
   "execution_count": 21,
   "id": "df63010e-688b-42e5-b181-d24a5a84db15",
   "metadata": {},
   "outputs": [],
   "source": [
    "db.save()\n",
    "db2 = faissDB.load(db.index_name)"
   ]
  },
  {
   "cell_type": "code",
   "execution_count": 22,
   "id": "b2658698-dd80-4d27-bde8-5ad9a7d2fbe4",
   "metadata": {},
   "outputs": [
    {
     "name": "stdout",
     "output_type": "stream",
     "text": [
      "CPU times: user 8.29 s, sys: 165 ms, total: 8.45 s\n",
      "Wall time: 7.7 s\n"
     ]
    }
   ],
   "source": [
    "%%time\n",
    "preds = [f\"{i[0]}\" for i in db2.query(test_data, 1)[1]]"
   ]
  },
  {
   "cell_type": "code",
   "execution_count": 23,
   "id": "4ad4171a-9bda-4a2e-b5ba-a01254b2a499",
   "metadata": {
    "tags": []
   },
   "outputs": [
    {
     "data": {
      "text/plain": [
       "1.0"
      ]
     },
     "execution_count": 23,
     "metadata": {},
     "output_type": "execute_result"
    }
   ],
   "source": [
    "accuracy_score(cosine_reals, preds)"
   ]
  },
  {
   "cell_type": "code",
   "execution_count": null,
   "id": "810b5a44-5c72-45bc-9bed-edde04e625c8",
   "metadata": {},
   "outputs": [],
   "source": []
  },
  {
   "cell_type": "markdown",
   "id": "8e81b9f5-2d34-40c1-b77a-ace65185c2dd",
   "metadata": {},
   "source": [
    "### type 2 IndexHNSWFlat"
   ]
  },
  {
   "cell_type": "code",
   "execution_count": 33,
   "id": "d3615378-d455-4cb6-b441-e1d60f255a27",
   "metadata": {},
   "outputs": [
    {
     "name": "stdout",
     "output_type": "stream",
     "text": [
      "CPU times: user 3min 33s, sys: 213 ms, total: 3min 33s\n",
      "Wall time: 59.6 s\n"
     ]
    }
   ],
   "source": [
    "%%time\n",
    "\n",
    "index_type=\"2\"\n",
    "db = faissDB(index_type, metric=metric, d=dimension, M=100)\n",
    "db.add(train_data, train_ids)"
   ]
  },
  {
   "cell_type": "code",
   "execution_count": 34,
   "id": "5c48855e-4ccd-4d0a-96f1-649ad61cfbac",
   "metadata": {},
   "outputs": [],
   "source": [
    "db.save()\n",
    "db2 = faissDB.load(db.index_name)"
   ]
  },
  {
   "cell_type": "code",
   "execution_count": 35,
   "id": "81e23485-97eb-4ebe-9fbc-c09cbd0506c8",
   "metadata": {},
   "outputs": [
    {
     "name": "stdout",
     "output_type": "stream",
     "text": [
      "CPU times: user 34.2 s, sys: 200 ms, total: 34.4 s\n",
      "Wall time: 10 s\n"
     ]
    }
   ],
   "source": [
    "%%time\n",
    "preds = [f\"{i[0]}\" for i in db2.query(test_data, 1)[1]]"
   ]
  },
  {
   "cell_type": "code",
   "execution_count": 36,
   "id": "a7170cdf-560f-4596-a7db-5837def0fbcf",
   "metadata": {
    "tags": []
   },
   "outputs": [
    {
     "data": {
      "text/plain": [
       "0.5346"
      ]
     },
     "execution_count": 36,
     "metadata": {},
     "output_type": "execute_result"
    }
   ],
   "source": [
    "accuracy_score(cosine_reals, preds)"
   ]
  },
  {
   "cell_type": "code",
   "execution_count": null,
   "id": "e5b13f1f-8c24-43db-9c78-0dd82847f296",
   "metadata": {},
   "outputs": [],
   "source": []
  },
  {
   "cell_type": "markdown",
   "id": "f0dab875-cc3e-4570-a1c1-bc60adf4d43e",
   "metadata": {
    "tags": []
   },
   "source": [
    "### type 3 IndexIVFFlat"
   ]
  },
  {
   "cell_type": "code",
   "execution_count": 41,
   "id": "72c6b5f7-128d-468a-a0af-24c994a0eb1b",
   "metadata": {},
   "outputs": [
    {
     "name": "stdout",
     "output_type": "stream",
     "text": [
      "CPU times: user 2.34 s, sys: 292 ms, total: 2.64 s\n",
      "Wall time: 2.25 s\n"
     ]
    }
   ],
   "source": [
    "%%time\n",
    "\n",
    "index_type=\"3\"\n",
    "quantizer = faiss.IndexFlatL2(dimension)\n",
    "db = faissDB(index_type, metric=metric, d=dimension, nlists=10, quantizer=quantizer)\n",
    "db.add(train_data, train_ids)"
   ]
  },
  {
   "cell_type": "code",
   "execution_count": 42,
   "id": "6f438284-f2b0-4845-8a1b-712901b65267",
   "metadata": {},
   "outputs": [],
   "source": [
    "db.save()\n",
    "db2 = faissDB.load(db.index_name)"
   ]
  },
  {
   "cell_type": "code",
   "execution_count": 43,
   "id": "f11653e6-0aba-44ba-aba3-76c1fae841d5",
   "metadata": {},
   "outputs": [
    {
     "name": "stdout",
     "output_type": "stream",
     "text": [
      "CPU times: user 1min 31s, sys: 256 ms, total: 1min 31s\n",
      "Wall time: 24.7 s\n"
     ]
    }
   ],
   "source": [
    "%%time\n",
    "preds = [f\"{i[0]}\" for i in db2.query(test_data, 1)[1]]"
   ]
  },
  {
   "cell_type": "code",
   "execution_count": 44,
   "id": "a8e22130-bcb7-4ec8-a8f5-599c56e0c4e7",
   "metadata": {
    "tags": []
   },
   "outputs": [
    {
     "data": {
      "text/plain": [
       "1.0"
      ]
     },
     "execution_count": 44,
     "metadata": {},
     "output_type": "execute_result"
    }
   ],
   "source": [
    "accuracy_score(cosine_reals, preds)"
   ]
  },
  {
   "cell_type": "code",
   "execution_count": null,
   "id": "de3e039c-fcfd-4535-bfef-f1fdfd51a9c5",
   "metadata": {},
   "outputs": [],
   "source": []
  },
  {
   "cell_type": "code",
   "execution_count": null,
   "id": "20b82a51-df19-431d-aded-36474041253b",
   "metadata": {},
   "outputs": [],
   "source": []
  },
  {
   "cell_type": "markdown",
   "id": "8a87f28a-ce83-4945-be06-f696b25a1e6b",
   "metadata": {
    "tags": []
   },
   "source": [
    "### type 4 IndexLSH"
   ]
  },
  {
   "cell_type": "code",
   "execution_count": 62,
   "id": "3809537f-2e71-4014-be24-1aacb540ef52",
   "metadata": {},
   "outputs": [
    {
     "name": "stdout",
     "output_type": "stream",
     "text": [
      "CPU times: user 1.8 s, sys: 116 ms, total: 1.92 s\n",
      "Wall time: 1.87 s\n"
     ]
    }
   ],
   "source": [
    "%%time\n",
    "\n",
    "index_type=\"4\"\n",
    "db = faissDB(index_type, metric=metric, d=dimension, nbits=10)\n",
    "db.add(train_data, train_ids)"
   ]
  },
  {
   "cell_type": "code",
   "execution_count": 63,
   "id": "4fb1dfcf-be91-4220-8a52-f6c75ed9d260",
   "metadata": {},
   "outputs": [],
   "source": [
    "db.save()\n",
    "db2 = faissDB.load(db.index_name)"
   ]
  },
  {
   "cell_type": "code",
   "execution_count": 64,
   "id": "c0d274c7-811a-465f-a53c-35f203446e40",
   "metadata": {},
   "outputs": [
    {
     "name": "stdout",
     "output_type": "stream",
     "text": [
      "CPU times: user 2.88 s, sys: 176 ms, total: 3.05 s\n",
      "Wall time: 2.14 s\n"
     ]
    }
   ],
   "source": [
    "%%time\n",
    "preds = [f\"{i[0]}\" for i in db2.query(test_data, 1)[1]]"
   ]
  },
  {
   "cell_type": "code",
   "execution_count": 65,
   "id": "2ecd23ae-f640-4c16-b6ee-5fc6030d171c",
   "metadata": {
    "tags": []
   },
   "outputs": [
    {
     "data": {
      "text/plain": [
       "0.0005"
      ]
     },
     "execution_count": 65,
     "metadata": {},
     "output_type": "execute_result"
    }
   ],
   "source": [
    "accuracy_score(cosine_reals, preds)"
   ]
  },
  {
   "cell_type": "code",
   "execution_count": null,
   "id": "b56290ea-3a50-4078-a415-8132b3782bba",
   "metadata": {},
   "outputs": [],
   "source": []
  },
  {
   "cell_type": "code",
   "execution_count": null,
   "id": "2add91b5-8c67-4976-bbb1-aec3fdbce468",
   "metadata": {},
   "outputs": [],
   "source": []
  },
  {
   "cell_type": "markdown",
   "id": "78aee853-ef2d-4d4d-b23a-5001af334e61",
   "metadata": {
    "tags": []
   },
   "source": [
    "### type 5 IndexScalarQuantizer"
   ]
  },
  {
   "cell_type": "code",
   "execution_count": 67,
   "id": "1a6b40a5-cf85-4c96-b8de-e580748d2d3b",
   "metadata": {},
   "outputs": [
    {
     "name": "stdout",
     "output_type": "stream",
     "text": [
      "CPU times: user 1.94 s, sys: 232 ms, total: 2.17 s\n",
      "Wall time: 2.04 s\n"
     ]
    }
   ],
   "source": [
    "%%time\n",
    "\n",
    "index_type=\"5\"\n",
    "\n",
    "qtype = faiss.ScalarQuantizer.QT_8bit\n",
    "db = faissDB(index_type, metric=metric, d=dimension, qtype=qtype)\n",
    "db.add(train_data, train_ids)"
   ]
  },
  {
   "cell_type": "code",
   "execution_count": 68,
   "id": "fe9b5d47-1fb8-4a49-b454-12ff26a77dc0",
   "metadata": {},
   "outputs": [],
   "source": [
    "db.save()\n",
    "db2 = faissDB.load(db.index_name)"
   ]
  },
  {
   "cell_type": "code",
   "execution_count": 69,
   "id": "4ca11d66-49b3-48c2-92be-96777402b415",
   "metadata": {},
   "outputs": [
    {
     "name": "stdout",
     "output_type": "stream",
     "text": [
      "CPU times: user 2min 26s, sys: 153 ms, total: 2min 27s\n",
      "Wall time: 38.9 s\n"
     ]
    }
   ],
   "source": [
    "%%time\n",
    "preds = [f\"{i[0]}\" for i in db2.query(test_data, 1)[1]]"
   ]
  },
  {
   "cell_type": "code",
   "execution_count": 70,
   "id": "b49b2eaf-11dd-412d-9d46-ae6a5fb393f1",
   "metadata": {
    "tags": []
   },
   "outputs": [
    {
     "data": {
      "text/plain": [
       "0.7376"
      ]
     },
     "execution_count": 70,
     "metadata": {},
     "output_type": "execute_result"
    }
   ],
   "source": [
    "accuracy_score(cosine_reals, preds)"
   ]
  },
  {
   "cell_type": "code",
   "execution_count": null,
   "id": "a822fa0a-cda9-403d-990c-f838dd4b8eea",
   "metadata": {},
   "outputs": [],
   "source": []
  },
  {
   "cell_type": "markdown",
   "id": "71f59200-1bfc-4b46-817f-e77dbff8d806",
   "metadata": {
    "tags": []
   },
   "source": [
    "### type 6 IndexPQ"
   ]
  },
  {
   "cell_type": "code",
   "execution_count": 75,
   "id": "5447619b-88c1-4aec-949e-474bd3524390",
   "metadata": {},
   "outputs": [
    {
     "name": "stderr",
     "output_type": "stream",
     "text": [
      "WARNING clustering 10000 points to 1024 centroids: please provide at least 39936 training points\n",
      "WARNING clustering 10000 points to 1024 centroids: please provide at least 39936 training points\n",
      "WARNING clustering 10000 points to 1024 centroids: please provide at least 39936 training points\n",
      "WARNING clustering 10000 points to 1024 centroids: please provide at least 39936 training points\n",
      "WARNING clustering 10000 points to 1024 centroids: please provide at least 39936 training points\n"
     ]
    },
    {
     "name": "stdout",
     "output_type": "stream",
     "text": [
      "CPU times: user 28.3 s, sys: 287 ms, total: 28.6 s\n",
      "Wall time: 19 s\n"
     ]
    }
   ],
   "source": [
    "%%time\n",
    "\n",
    "index_type=\"6\"\n",
    "\n",
    "db = faissDB(index_type, metric=metric, d=dimension, M=5, nbits=10)\n",
    "db.add(train_data, train_ids)"
   ]
  },
  {
   "cell_type": "code",
   "execution_count": 76,
   "id": "c0b7dd15-278e-407e-90d0-595ff601e63d",
   "metadata": {},
   "outputs": [],
   "source": [
    "db.save()\n",
    "db2 = faissDB.load(db.index_name)"
   ]
  },
  {
   "cell_type": "code",
   "execution_count": 77,
   "id": "b5e6e044-a636-4d59-a2c2-3eb9282e8dd9",
   "metadata": {},
   "outputs": [
    {
     "name": "stdout",
     "output_type": "stream",
     "text": [
      "CPU times: user 8.08 s, sys: 192 ms, total: 8.27 s\n",
      "Wall time: 3.84 s\n"
     ]
    }
   ],
   "source": [
    "%%time\n",
    "preds = [f\"{i[0]}\" for i in db2.query(test_data, 1)[1]]"
   ]
  },
  {
   "cell_type": "code",
   "execution_count": 78,
   "id": "76d493e3-8522-4ac7-823e-b78ae7398a2f",
   "metadata": {
    "tags": []
   },
   "outputs": [
    {
     "data": {
      "text/plain": [
       "0.0"
      ]
     },
     "execution_count": 78,
     "metadata": {},
     "output_type": "execute_result"
    }
   ],
   "source": [
    "accuracy_score(cosine_reals, preds)"
   ]
  },
  {
   "cell_type": "code",
   "execution_count": null,
   "id": "be4a6eaf-06e3-4c2b-a349-eeea5bc4c83f",
   "metadata": {},
   "outputs": [],
   "source": []
  },
  {
   "cell_type": "markdown",
   "id": "aa2c79d8-814d-4706-adde-3067a63ccfaf",
   "metadata": {
    "tags": []
   },
   "source": [
    "### type 7 IndexIVFScalarQuantizer"
   ]
  },
  {
   "cell_type": "code",
   "execution_count": 79,
   "id": "3cab552d-ca54-40c5-8c22-496fa2142999",
   "metadata": {},
   "outputs": [
    {
     "name": "stdout",
     "output_type": "stream",
     "text": [
      "CPU times: user 2.32 s, sys: 324 ms, total: 2.64 s\n",
      "Wall time: 2.31 s\n"
     ]
    }
   ],
   "source": [
    "%%time\n",
    "\n",
    "index_type=\"7\"\n",
    "quantizer = faiss.IndexFlatL2(dimension)\n",
    "qtype = faiss.ScalarQuantizer.QT_8bit\n",
    "db = faissDB(index_type, metric=metric, d=dimension, quantizer=quantizer, qtype=qtype, nlists=3)\n",
    "db.add(train_data, train_ids)"
   ]
  },
  {
   "cell_type": "code",
   "execution_count": 80,
   "id": "51533135-ff5e-42f4-aee8-b7e1269fa60e",
   "metadata": {},
   "outputs": [],
   "source": [
    "db.save()\n",
    "db2 = faissDB.load(db.index_name)"
   ]
  },
  {
   "cell_type": "code",
   "execution_count": 81,
   "id": "517ba60c-6b8a-40a5-a559-58a61e78bfb0",
   "metadata": {},
   "outputs": [
    {
     "name": "stdout",
     "output_type": "stream",
     "text": [
      "CPU times: user 2min 26s, sys: 237 ms, total: 2min 26s\n",
      "Wall time: 39.9 s\n"
     ]
    }
   ],
   "source": [
    "%%time\n",
    "preds = [f\"{i[0]}\" for i in db2.query(test_data, 1)[1]]"
   ]
  },
  {
   "cell_type": "code",
   "execution_count": 82,
   "id": "d2abe078-2db1-46c5-8508-67835251c38b",
   "metadata": {
    "tags": []
   },
   "outputs": [
    {
     "data": {
      "text/plain": [
       "0.7458"
      ]
     },
     "execution_count": 82,
     "metadata": {},
     "output_type": "execute_result"
    }
   ],
   "source": [
    "accuracy_score(cosine_reals, preds)"
   ]
  },
  {
   "cell_type": "code",
   "execution_count": null,
   "id": "7cfbb566-8a47-4665-867e-6579be273296",
   "metadata": {},
   "outputs": [],
   "source": []
  },
  {
   "cell_type": "markdown",
   "id": "5d843d7b-9f31-4497-b237-09350d4d3de0",
   "metadata": {
    "tags": []
   },
   "source": [
    "### type 8 IndexIVFPQ"
   ]
  },
  {
   "cell_type": "code",
   "execution_count": 85,
   "id": "30e5e886-21ae-4054-8da2-1ff139085c3b",
   "metadata": {},
   "outputs": [
    {
     "name": "stderr",
     "output_type": "stream",
     "text": [
      "WARNING clustering 10000 points to 1024 centroids: please provide at least 39936 training points\n"
     ]
    },
    {
     "name": "stdout",
     "output_type": "stream",
     "text": [
      "CPU times: user 20.7 s, sys: 432 ms, total: 21.1 s\n",
      "Wall time: 18 s\n"
     ]
    }
   ],
   "source": [
    "%%time\n",
    "\n",
    "index_type=\"8\"\n",
    "quantizer = faiss.IndexFlatL2(dimension)\n",
    "db = faissDB(index_type, metric=metric, d=dimension, quantizer=quantizer, M=1, nlists=10, nbits=10)\n",
    "db.add(train_data, train_ids)"
   ]
  },
  {
   "cell_type": "code",
   "execution_count": 86,
   "id": "3be0e7eb-3e03-456a-a1de-32b486550678",
   "metadata": {},
   "outputs": [],
   "source": [
    "db.save()\n",
    "db2 = faissDB.load(db.index_name)"
   ]
  },
  {
   "cell_type": "code",
   "execution_count": 87,
   "id": "ec95ea48-56ee-4d67-91e6-269301e2cbe8",
   "metadata": {},
   "outputs": [
    {
     "name": "stdout",
     "output_type": "stream",
     "text": [
      "CPU times: user 9.25 s, sys: 184 ms, total: 9.44 s\n",
      "Wall time: 3.82 s\n"
     ]
    }
   ],
   "source": [
    "%%time\n",
    "preds = [f\"{i[0]}\" for i in db2.query(test_data, 1)[1]]"
   ]
  },
  {
   "cell_type": "code",
   "execution_count": 88,
   "id": "a2c6794c-be55-4ca7-ac83-5acdd6b78685",
   "metadata": {
    "tags": []
   },
   "outputs": [
    {
     "data": {
      "text/plain": [
       "0.0"
      ]
     },
     "execution_count": 88,
     "metadata": {},
     "output_type": "execute_result"
    }
   ],
   "source": [
    "accuracy_score(cosine_reals, preds)"
   ]
  },
  {
   "cell_type": "code",
   "execution_count": null,
   "id": "8d282438-838e-4463-847d-44959c6de170",
   "metadata": {},
   "outputs": [],
   "source": []
  },
  {
   "cell_type": "markdown",
   "id": "fe8d4237-3451-4fea-ab2a-5aff57d47114",
   "metadata": {
    "tags": []
   },
   "source": [
    "### type 9 IndexIVFPQR"
   ]
  },
  {
   "cell_type": "code",
   "execution_count": 89,
   "id": "50f2d703-2c3b-49d9-beaa-851b46b221b8",
   "metadata": {},
   "outputs": [
    {
     "name": "stderr",
     "output_type": "stream",
     "text": [
      "WARNING clustering 10000 points to 1024 centroids: please provide at least 39936 training points\n"
     ]
    },
    {
     "name": "stdout",
     "output_type": "stream",
     "text": [
      "CPU times: user 39 s, sys: 401 ms, total: 39.4 s\n",
      "Wall time: 24.2 s\n"
     ]
    }
   ],
   "source": [
    "%%time\n",
    "\n",
    "index_type=\"9\"\n",
    "quantizer = faiss.IndexFlatL2(dimension)\n",
    "db = faissDB(index_type, metric=metric, d=dimension, quantizer=quantizer, M=1, nlists=10, nbits=10, M_refine=8, nbits_refine=8)\n",
    "db.add(train_data, train_ids)"
   ]
  },
  {
   "cell_type": "code",
   "execution_count": 90,
   "id": "a812fd79-3b32-4f70-95cc-b3deedda7d81",
   "metadata": {},
   "outputs": [],
   "source": [
    "db.save()\n",
    "db2 = faissDB.load(db.index_name)"
   ]
  },
  {
   "cell_type": "code",
   "execution_count": 91,
   "id": "98021d21-52a5-46c6-9196-d024abc6add6",
   "metadata": {},
   "outputs": [
    {
     "name": "stdout",
     "output_type": "stream",
     "text": [
      "CPU times: user 9.42 s, sys: 164 ms, total: 9.58 s\n",
      "Wall time: 3.79 s\n"
     ]
    }
   ],
   "source": [
    "%%time\n",
    "preds = [f\"{i[0]}\" for i in db2.query(test_data, 1)[1]]"
   ]
  },
  {
   "cell_type": "code",
   "execution_count": 92,
   "id": "59d4833a-36d7-4995-8935-95f9f7ab5a3b",
   "metadata": {
    "tags": []
   },
   "outputs": [
    {
     "data": {
      "text/plain": [
       "0.0"
      ]
     },
     "execution_count": 92,
     "metadata": {},
     "output_type": "execute_result"
    }
   ],
   "source": [
    "accuracy_score(cosine_reals, preds)"
   ]
  },
  {
   "cell_type": "code",
   "execution_count": null,
   "id": "bda0bcbe-335f-444b-92a0-19a60655d6fb",
   "metadata": {},
   "outputs": [],
   "source": []
  },
  {
   "cell_type": "code",
   "execution_count": null,
   "id": "41dbcff8-313e-4ea1-b111-ec0c48d26fec",
   "metadata": {},
   "outputs": [],
   "source": []
  },
  {
   "cell_type": "code",
   "execution_count": null,
   "id": "c8a6511f-4bc0-4889-ae4c-cd2dc335bc4a",
   "metadata": {},
   "outputs": [],
   "source": []
  },
  {
   "cell_type": "markdown",
   "id": "974340ca-f79c-4103-b172-87e11214636e",
   "metadata": {},
   "source": [
    "## on new vectors"
   ]
  },
  {
   "cell_type": "code",
   "execution_count": 2,
   "id": "89afb548-8700-47d6-b1e1-a51f63208cec",
   "metadata": {},
   "outputs": [],
   "source": [
    "data_name = \"diff_data_test\"\n",
    "metric = \"cosine\"\n",
    "dimension = 2000\n",
    "\n",
    "with open(f'../test_data/{data_name}.pkl', 'rb') as f:\n",
    "    cosine_reals, euclidean_reals, train_data, test_data, train_ids = pickle.load(f)"
   ]
  },
  {
   "cell_type": "markdown",
   "id": "d9645377-c960-4034-8643-21d95dee6f4f",
   "metadata": {},
   "source": [
    "### type 0 IndexFlatL2"
   ]
  },
  {
   "cell_type": "code",
   "execution_count": 3,
   "id": "32506b93-e65e-425d-a9d7-c01176afab73",
   "metadata": {},
   "outputs": [
    {
     "name": "stdout",
     "output_type": "stream",
     "text": [
      "CPU times: user 2.12 s, sys: 170 ms, total: 2.29 s\n",
      "Wall time: 2.26 s\n"
     ]
    }
   ],
   "source": [
    "%%time\n",
    "\n",
    "index_type=\"0\"\n",
    "db = faissDB(index_type, metric=metric, d=dimension)\n",
    "db.add(train_data, train_ids)"
   ]
  },
  {
   "cell_type": "code",
   "execution_count": 4,
   "id": "07e1faf5-4872-4707-a471-d1e3204fb95b",
   "metadata": {},
   "outputs": [],
   "source": [
    "db.save()\n",
    "db2 = faissDB.load(db.index_name)"
   ]
  },
  {
   "cell_type": "code",
   "execution_count": 5,
   "id": "d19e4e0b-3131-4215-953f-8747538266b5",
   "metadata": {},
   "outputs": [
    {
     "name": "stdout",
     "output_type": "stream",
     "text": [
      "CPU times: user 8.51 s, sys: 194 ms, total: 8.7 s\n",
      "Wall time: 7.96 s\n"
     ]
    }
   ],
   "source": [
    "%%time\n",
    "preds = [f\"{i[0]}\" for i in db2.query(test_data, 1)[1]]"
   ]
  },
  {
   "cell_type": "code",
   "execution_count": 6,
   "id": "77f68a52-9af0-497d-997d-ba44bf9cefad",
   "metadata": {
    "tags": []
   },
   "outputs": [
    {
     "data": {
      "text/plain": [
       "1.0"
      ]
     },
     "execution_count": 6,
     "metadata": {},
     "output_type": "execute_result"
    }
   ],
   "source": [
    "accuracy_score(cosine_reals, preds)"
   ]
  },
  {
   "cell_type": "code",
   "execution_count": null,
   "id": "6e7d3f7c-874f-4fa5-a85f-3f59469d58ba",
   "metadata": {},
   "outputs": [],
   "source": []
  },
  {
   "cell_type": "markdown",
   "id": "0d65c8c4-08d5-4f71-8f94-dff6aec9781c",
   "metadata": {},
   "source": [
    "### type 1 IndexFlatIP"
   ]
  },
  {
   "cell_type": "code",
   "execution_count": 7,
   "id": "2bc56f44-ab27-4d1f-990f-c70b3f842594",
   "metadata": {},
   "outputs": [
    {
     "name": "stdout",
     "output_type": "stream",
     "text": [
      "CPU times: user 2.19 s, sys: 118 ms, total: 2.31 s\n",
      "Wall time: 2.27 s\n"
     ]
    }
   ],
   "source": [
    "%%time\n",
    "\n",
    "index_type=\"1\"\n",
    "db = faissDB(index_type, metric=metric, d=dimension)\n",
    "db.add(train_data, train_ids)"
   ]
  },
  {
   "cell_type": "code",
   "execution_count": 8,
   "id": "dda9d53c-9e7e-4995-a885-d64a56cadc0a",
   "metadata": {},
   "outputs": [],
   "source": [
    "db.save()\n",
    "db2 = faissDB.load(db.index_name)"
   ]
  },
  {
   "cell_type": "code",
   "execution_count": 9,
   "id": "2e14517f-962d-42dc-a5cd-1d7413186c1f",
   "metadata": {},
   "outputs": [
    {
     "name": "stdout",
     "output_type": "stream",
     "text": [
      "CPU times: user 8.44 s, sys: 143 ms, total: 8.59 s\n",
      "Wall time: 7.89 s\n"
     ]
    }
   ],
   "source": [
    "%%time\n",
    "preds = [f\"{i[0]}\" for i in db2.query(test_data, 1)[1]]"
   ]
  },
  {
   "cell_type": "code",
   "execution_count": 10,
   "id": "9673445e-57a7-4520-8767-b3799026c606",
   "metadata": {
    "tags": []
   },
   "outputs": [
    {
     "data": {
      "text/plain": [
       "1.0"
      ]
     },
     "execution_count": 10,
     "metadata": {},
     "output_type": "execute_result"
    }
   ],
   "source": [
    "accuracy_score(cosine_reals, preds)"
   ]
  },
  {
   "cell_type": "code",
   "execution_count": null,
   "id": "df69558a-afb4-42b6-b9be-bd3ba37088e7",
   "metadata": {},
   "outputs": [],
   "source": []
  },
  {
   "cell_type": "markdown",
   "id": "a09dc84f-acdc-4b44-a4ba-52be9dc907a9",
   "metadata": {},
   "source": [
    "### type 2 IndexHNSWFlat"
   ]
  },
  {
   "cell_type": "code",
   "execution_count": 11,
   "id": "a0e45bd7-a750-4422-8f3c-647280249594",
   "metadata": {},
   "outputs": [
    {
     "name": "stdout",
     "output_type": "stream",
     "text": [
      "CPU times: user 3min 31s, sys: 373 ms, total: 3min 32s\n",
      "Wall time: 59.9 s\n"
     ]
    }
   ],
   "source": [
    "%%time\n",
    "\n",
    "index_type=\"2\"\n",
    "db = faissDB(index_type, metric=metric, d=dimension, M=100)\n",
    "db.add(train_data, train_ids)"
   ]
  },
  {
   "cell_type": "code",
   "execution_count": 12,
   "id": "73381aa1-5297-4702-8af0-fc25dc0c8b8a",
   "metadata": {},
   "outputs": [],
   "source": [
    "db.save()\n",
    "db2 = faissDB.load(db.index_name)"
   ]
  },
  {
   "cell_type": "code",
   "execution_count": 13,
   "id": "a695f2ce-f0f2-490f-a8b2-f243d1ad0960",
   "metadata": {},
   "outputs": [
    {
     "name": "stdout",
     "output_type": "stream",
     "text": [
      "CPU times: user 31 s, sys: 164 ms, total: 31.2 s\n",
      "Wall time: 9.92 s\n"
     ]
    }
   ],
   "source": [
    "%%time\n",
    "preds = [f\"{i[0]}\" for i in db2.query(test_data, 1)[1]]"
   ]
  },
  {
   "cell_type": "code",
   "execution_count": 14,
   "id": "523599da-291d-4311-b78f-e685083ce94f",
   "metadata": {
    "tags": []
   },
   "outputs": [
    {
     "data": {
      "text/plain": [
       "0.5412"
      ]
     },
     "execution_count": 14,
     "metadata": {},
     "output_type": "execute_result"
    }
   ],
   "source": [
    "accuracy_score(cosine_reals, preds)"
   ]
  },
  {
   "cell_type": "code",
   "execution_count": null,
   "id": "4a90bf0b-0bf2-4dae-92b2-19dc934bae05",
   "metadata": {},
   "outputs": [],
   "source": []
  },
  {
   "cell_type": "markdown",
   "id": "462729b2-b06d-4f9e-8454-70f0c7695186",
   "metadata": {
    "tags": []
   },
   "source": [
    "### type 3 IndexIVFFlat"
   ]
  },
  {
   "cell_type": "code",
   "execution_count": 15,
   "id": "8600d62a-217a-4852-bca5-bcc8c9447e72",
   "metadata": {},
   "outputs": [
    {
     "name": "stdout",
     "output_type": "stream",
     "text": [
      "CPU times: user 2.69 s, sys: 268 ms, total: 2.96 s\n",
      "Wall time: 2.59 s\n"
     ]
    }
   ],
   "source": [
    "%%time\n",
    "\n",
    "index_type=\"3\"\n",
    "quantizer = faiss.IndexFlatL2(dimension)\n",
    "db = faissDB(index_type, metric=metric, d=dimension, nlists=10, quantizer=quantizer)\n",
    "db.add(train_data, train_ids)"
   ]
  },
  {
   "cell_type": "code",
   "execution_count": 16,
   "id": "a79d877e-0207-4957-b5f1-caa2cf2a1fd5",
   "metadata": {},
   "outputs": [],
   "source": [
    "db.save()\n",
    "db2 = faissDB.load(db.index_name)"
   ]
  },
  {
   "cell_type": "code",
   "execution_count": 17,
   "id": "1668b364-280c-4d77-af07-f03a7ff5bb61",
   "metadata": {},
   "outputs": [
    {
     "name": "stdout",
     "output_type": "stream",
     "text": [
      "CPU times: user 1min 33s, sys: 292 ms, total: 1min 33s\n",
      "Wall time: 25.2 s\n"
     ]
    }
   ],
   "source": [
    "%%time\n",
    "preds = [f\"{i[0]}\" for i in db2.query(test_data, 1)[1]]"
   ]
  },
  {
   "cell_type": "code",
   "execution_count": 18,
   "id": "7f69482c-5044-458f-82f7-ba7da3d2a9ca",
   "metadata": {
    "tags": []
   },
   "outputs": [
    {
     "data": {
      "text/plain": [
       "1.0"
      ]
     },
     "execution_count": 18,
     "metadata": {},
     "output_type": "execute_result"
    }
   ],
   "source": [
    "accuracy_score(cosine_reals, preds)"
   ]
  },
  {
   "cell_type": "code",
   "execution_count": null,
   "id": "72084efa-685b-4620-8946-53964497cda2",
   "metadata": {},
   "outputs": [],
   "source": []
  },
  {
   "cell_type": "code",
   "execution_count": null,
   "id": "6350dda1-9d96-4388-b7f6-a870f94ffd8b",
   "metadata": {},
   "outputs": [],
   "source": []
  },
  {
   "cell_type": "markdown",
   "id": "33dd9073-034b-44b7-8eeb-296b1fd34ca9",
   "metadata": {
    "tags": []
   },
   "source": [
    "### type 4 IndexLSH"
   ]
  },
  {
   "cell_type": "code",
   "execution_count": 19,
   "id": "fa1864f8-19fc-4b31-96b6-f9f3b3857183",
   "metadata": {},
   "outputs": [
    {
     "name": "stdout",
     "output_type": "stream",
     "text": [
      "CPU times: user 2.19 s, sys: 144 ms, total: 2.34 s\n",
      "Wall time: 2.29 s\n"
     ]
    }
   ],
   "source": [
    "%%time\n",
    "\n",
    "index_type=\"4\"\n",
    "db = faissDB(index_type, metric=metric, d=dimension, nbits=10)\n",
    "db.add(train_data, train_ids)"
   ]
  },
  {
   "cell_type": "code",
   "execution_count": 20,
   "id": "8b937517-5e28-4da0-8052-ed09e2be31db",
   "metadata": {},
   "outputs": [],
   "source": [
    "db.save()\n",
    "db2 = faissDB.load(db.index_name)"
   ]
  },
  {
   "cell_type": "code",
   "execution_count": 21,
   "id": "b7278046-4410-4cc9-bfce-2ca62b24a583",
   "metadata": {},
   "outputs": [
    {
     "name": "stdout",
     "output_type": "stream",
     "text": [
      "CPU times: user 3.35 s, sys: 116 ms, total: 3.46 s\n",
      "Wall time: 2.55 s\n"
     ]
    }
   ],
   "source": [
    "%%time\n",
    "preds = [f\"{i[0]}\" for i in db2.query(test_data, 1)[1]]"
   ]
  },
  {
   "cell_type": "code",
   "execution_count": 22,
   "id": "4767137a-0aeb-4fba-bee1-c20d42a22567",
   "metadata": {
    "tags": []
   },
   "outputs": [
    {
     "data": {
      "text/plain": [
       "0.0005"
      ]
     },
     "execution_count": 22,
     "metadata": {},
     "output_type": "execute_result"
    }
   ],
   "source": [
    "accuracy_score(cosine_reals, preds)"
   ]
  },
  {
   "cell_type": "code",
   "execution_count": null,
   "id": "c36debff-7fa8-42c2-b6f7-4ca950e5659f",
   "metadata": {},
   "outputs": [],
   "source": []
  },
  {
   "cell_type": "code",
   "execution_count": null,
   "id": "8d8f20be-2885-47d4-8365-b70c13d7d21c",
   "metadata": {},
   "outputs": [],
   "source": []
  },
  {
   "cell_type": "markdown",
   "id": "31019bbb-f8ee-419a-95b2-bb48253ececb",
   "metadata": {
    "tags": []
   },
   "source": [
    "### type 5 IndexScalarQuantizer"
   ]
  },
  {
   "cell_type": "code",
   "execution_count": 23,
   "id": "a7655a3f-edd3-4049-9c6f-a12611f81966",
   "metadata": {},
   "outputs": [
    {
     "name": "stdout",
     "output_type": "stream",
     "text": [
      "CPU times: user 2.29 s, sys: 124 ms, total: 2.42 s\n",
      "Wall time: 2.29 s\n"
     ]
    }
   ],
   "source": [
    "%%time\n",
    "\n",
    "index_type=\"5\"\n",
    "\n",
    "qtype = faiss.ScalarQuantizer.QT_8bit\n",
    "db = faissDB(index_type, metric=metric, d=dimension, qtype=qtype)\n",
    "db.add(train_data, train_ids)"
   ]
  },
  {
   "cell_type": "code",
   "execution_count": 24,
   "id": "8d7e0f18-f4f6-468d-bbf5-22eb3e86d302",
   "metadata": {},
   "outputs": [],
   "source": [
    "db.save()\n",
    "db2 = faissDB.load(db.index_name)"
   ]
  },
  {
   "cell_type": "code",
   "execution_count": 25,
   "id": "1850fde3-9931-460a-aeb0-904bc335e554",
   "metadata": {},
   "outputs": [
    {
     "name": "stdout",
     "output_type": "stream",
     "text": [
      "CPU times: user 2min 26s, sys: 127 ms, total: 2min 26s\n",
      "Wall time: 39.5 s\n"
     ]
    }
   ],
   "source": [
    "%%time\n",
    "preds = [f\"{i[0]}\" for i in db2.query(test_data, 1)[1]]"
   ]
  },
  {
   "cell_type": "code",
   "execution_count": 26,
   "id": "ee6916cc-0863-419b-a03d-757b7c15989b",
   "metadata": {
    "tags": []
   },
   "outputs": [
    {
     "data": {
      "text/plain": [
       "0.7376"
      ]
     },
     "execution_count": 26,
     "metadata": {},
     "output_type": "execute_result"
    }
   ],
   "source": [
    "accuracy_score(cosine_reals, preds)"
   ]
  },
  {
   "cell_type": "code",
   "execution_count": null,
   "id": "f83d0e80-d997-483f-9650-4a616efba2c4",
   "metadata": {},
   "outputs": [],
   "source": []
  },
  {
   "cell_type": "markdown",
   "id": "9fec5a6b-8630-4e16-8b38-6e45e3848f24",
   "metadata": {
    "tags": []
   },
   "source": [
    "### type 6 IndexPQ"
   ]
  },
  {
   "cell_type": "code",
   "execution_count": 27,
   "id": "afea62ee-405e-47f4-86d3-05198ef2d3dd",
   "metadata": {},
   "outputs": [
    {
     "name": "stderr",
     "output_type": "stream",
     "text": [
      "WARNING clustering 10000 points to 1024 centroids: please provide at least 39936 training points\n",
      "WARNING clustering 10000 points to 1024 centroids: please provide at least 39936 training points\n",
      "WARNING clustering 10000 points to 1024 centroids: please provide at least 39936 training points\n",
      "WARNING clustering 10000 points to 1024 centroids: please provide at least 39936 training points\n",
      "WARNING clustering 10000 points to 1024 centroids: please provide at least 39936 training points\n"
     ]
    },
    {
     "name": "stdout",
     "output_type": "stream",
     "text": [
      "CPU times: user 29.4 s, sys: 336 ms, total: 29.7 s\n",
      "Wall time: 19.5 s\n"
     ]
    }
   ],
   "source": [
    "%%time\n",
    "\n",
    "index_type=\"6\"\n",
    "\n",
    "db = faissDB(index_type, metric=metric, d=dimension, M=5, nbits=10)\n",
    "db.add(train_data, train_ids)"
   ]
  },
  {
   "cell_type": "code",
   "execution_count": 28,
   "id": "acca1a68-3c1b-40a8-a49e-a508f5ad3071",
   "metadata": {},
   "outputs": [],
   "source": [
    "db.save()\n",
    "db2 = faissDB.load(db.index_name)"
   ]
  },
  {
   "cell_type": "code",
   "execution_count": 29,
   "id": "f52a452f-2997-4495-98cb-45580a1d3d83",
   "metadata": {},
   "outputs": [
    {
     "name": "stdout",
     "output_type": "stream",
     "text": [
      "CPU times: user 8.41 s, sys: 256 ms, total: 8.67 s\n",
      "Wall time: 4.24 s\n"
     ]
    }
   ],
   "source": [
    "%%time\n",
    "preds = [f\"{i[0]}\" for i in db2.query(test_data, 1)[1]]"
   ]
  },
  {
   "cell_type": "code",
   "execution_count": 30,
   "id": "28da90e3-3c4e-4ac5-b3b2-6e5db8dbd9b9",
   "metadata": {
    "tags": []
   },
   "outputs": [
    {
     "data": {
      "text/plain": [
       "0.0"
      ]
     },
     "execution_count": 30,
     "metadata": {},
     "output_type": "execute_result"
    }
   ],
   "source": [
    "accuracy_score(cosine_reals, preds)"
   ]
  },
  {
   "cell_type": "code",
   "execution_count": null,
   "id": "53c2f1ec-df84-4087-9ffd-e70810675c7e",
   "metadata": {},
   "outputs": [],
   "source": []
  },
  {
   "cell_type": "markdown",
   "id": "dbc28391-ce2c-44a1-9818-9a750f27a9cd",
   "metadata": {
    "tags": []
   },
   "source": [
    "### type 7 IndexIVFScalarQuantizer"
   ]
  },
  {
   "cell_type": "code",
   "execution_count": 31,
   "id": "b26d319f-b086-476c-b4fc-eafc546d8d5b",
   "metadata": {},
   "outputs": [
    {
     "name": "stdout",
     "output_type": "stream",
     "text": [
      "CPU times: user 2.69 s, sys: 172 ms, total: 2.87 s\n",
      "Wall time: 2.54 s\n"
     ]
    }
   ],
   "source": [
    "%%time\n",
    "\n",
    "index_type=\"7\"\n",
    "quantizer = faiss.IndexFlatL2(dimension)\n",
    "qtype = faiss.ScalarQuantizer.QT_8bit\n",
    "db = faissDB(index_type, metric=metric, d=dimension, quantizer=quantizer, qtype=qtype, nlists=3)\n",
    "db.add(train_data, train_ids)"
   ]
  },
  {
   "cell_type": "code",
   "execution_count": 32,
   "id": "1040ccd2-29da-4bad-b213-eeed3c67d2dd",
   "metadata": {},
   "outputs": [],
   "source": [
    "db.save()\n",
    "db2 = faissDB.load(db.index_name)"
   ]
  },
  {
   "cell_type": "code",
   "execution_count": 33,
   "id": "298a30a6-21bf-425c-8ab2-0abbfeeafda4",
   "metadata": {},
   "outputs": [
    {
     "name": "stdout",
     "output_type": "stream",
     "text": [
      "CPU times: user 2min 26s, sys: 255 ms, total: 2min 26s\n",
      "Wall time: 39.7 s\n"
     ]
    }
   ],
   "source": [
    "%%time\n",
    "preds = [f\"{i[0]}\" for i in db2.query(test_data, 1)[1]]"
   ]
  },
  {
   "cell_type": "code",
   "execution_count": 34,
   "id": "9f0d44de-e191-4630-b4ce-f693bfc95ede",
   "metadata": {
    "tags": []
   },
   "outputs": [
    {
     "data": {
      "text/plain": [
       "0.7458"
      ]
     },
     "execution_count": 34,
     "metadata": {},
     "output_type": "execute_result"
    }
   ],
   "source": [
    "accuracy_score(cosine_reals, preds)"
   ]
  },
  {
   "cell_type": "code",
   "execution_count": null,
   "id": "dc1a9182-9e29-4fdc-8509-9ede3ed80a1f",
   "metadata": {},
   "outputs": [],
   "source": []
  },
  {
   "cell_type": "markdown",
   "id": "a08e70e6-e602-494a-a283-daa5a3d6d757",
   "metadata": {
    "tags": []
   },
   "source": [
    "### type 8 IndexIVFPQ"
   ]
  },
  {
   "cell_type": "code",
   "execution_count": 35,
   "id": "06eb988f-794a-45ac-bdc4-502cac27fef1",
   "metadata": {},
   "outputs": [
    {
     "name": "stderr",
     "output_type": "stream",
     "text": [
      "WARNING clustering 10000 points to 1024 centroids: please provide at least 39936 training points\n"
     ]
    },
    {
     "name": "stdout",
     "output_type": "stream",
     "text": [
      "CPU times: user 21.1 s, sys: 240 ms, total: 21.4 s\n",
      "Wall time: 18.2 s\n"
     ]
    }
   ],
   "source": [
    "%%time\n",
    "\n",
    "index_type=\"8\"\n",
    "quantizer = faiss.IndexFlatL2(dimension)\n",
    "db = faissDB(index_type, metric=metric, d=dimension, quantizer=quantizer, M=1, nlists=10, nbits=10)\n",
    "db.add(train_data, train_ids)"
   ]
  },
  {
   "cell_type": "code",
   "execution_count": 36,
   "id": "a598d4cb-8c75-4383-8773-78d6b23ac2f7",
   "metadata": {},
   "outputs": [],
   "source": [
    "db.save()\n",
    "db2 = faissDB.load(db.index_name)"
   ]
  },
  {
   "cell_type": "code",
   "execution_count": 37,
   "id": "9669e2cc-8bd4-48a6-bda0-8dfc9a054140",
   "metadata": {},
   "outputs": [
    {
     "name": "stdout",
     "output_type": "stream",
     "text": [
      "CPU times: user 9.28 s, sys: 184 ms, total: 9.46 s\n",
      "Wall time: 4.03 s\n"
     ]
    }
   ],
   "source": [
    "%%time\n",
    "preds = [f\"{i[0]}\" for i in db2.query(test_data, 1)[1]]"
   ]
  },
  {
   "cell_type": "code",
   "execution_count": 38,
   "id": "bbc89035-52f8-4351-a8fa-d7e0bb6c4fbd",
   "metadata": {
    "tags": []
   },
   "outputs": [
    {
     "data": {
      "text/plain": [
       "0.0"
      ]
     },
     "execution_count": 38,
     "metadata": {},
     "output_type": "execute_result"
    }
   ],
   "source": [
    "accuracy_score(cosine_reals, preds)"
   ]
  },
  {
   "cell_type": "code",
   "execution_count": null,
   "id": "9bc215fb-e1ec-47d7-a300-043ecbf9cfb6",
   "metadata": {},
   "outputs": [],
   "source": []
  },
  {
   "cell_type": "markdown",
   "id": "a57cb85d-5bb9-4542-8bea-a2dfb2d7c97b",
   "metadata": {
    "tags": []
   },
   "source": [
    "### type 9 IndexIVFPQR"
   ]
  },
  {
   "cell_type": "code",
   "execution_count": 39,
   "id": "ace7dffd-c31b-4af4-944f-3052c5752254",
   "metadata": {},
   "outputs": [
    {
     "name": "stderr",
     "output_type": "stream",
     "text": [
      "WARNING clustering 10000 points to 1024 centroids: please provide at least 39936 training points\n"
     ]
    },
    {
     "name": "stdout",
     "output_type": "stream",
     "text": [
      "CPU times: user 39.4 s, sys: 379 ms, total: 39.8 s\n",
      "Wall time: 24.6 s\n"
     ]
    }
   ],
   "source": [
    "%%time\n",
    "\n",
    "index_type=\"9\"\n",
    "quantizer = faiss.IndexFlatL2(dimension)\n",
    "db = faissDB(index_type, metric=metric, d=dimension, quantizer=quantizer, M=1, nlists=10, nbits=10, M_refine=8, nbits_refine=8)\n",
    "db.add(train_data, train_ids)"
   ]
  },
  {
   "cell_type": "code",
   "execution_count": 40,
   "id": "1ac93596-f2ac-48d3-acff-745cbeafe3b2",
   "metadata": {},
   "outputs": [],
   "source": [
    "db.save()\n",
    "db2 = faissDB.load(db.index_name)"
   ]
  },
  {
   "cell_type": "code",
   "execution_count": 41,
   "id": "60263081-15f3-4acf-9d4c-f5a16a27a50d",
   "metadata": {},
   "outputs": [
    {
     "name": "stdout",
     "output_type": "stream",
     "text": [
      "CPU times: user 9.45 s, sys: 184 ms, total: 9.64 s\n",
      "Wall time: 4.07 s\n"
     ]
    }
   ],
   "source": [
    "%%time\n",
    "preds = [f\"{i[0]}\" for i in db2.query(test_data, 1)[1]]"
   ]
  },
  {
   "cell_type": "code",
   "execution_count": 42,
   "id": "5ecf984c-92b6-4482-8309-6f6f768c69ee",
   "metadata": {
    "tags": []
   },
   "outputs": [
    {
     "data": {
      "text/plain": [
       "0.0"
      ]
     },
     "execution_count": 42,
     "metadata": {},
     "output_type": "execute_result"
    }
   ],
   "source": [
    "accuracy_score(cosine_reals, preds)"
   ]
  },
  {
   "cell_type": "code",
   "execution_count": null,
   "id": "9203924e-130f-44b7-ac57-c1391cdff64e",
   "metadata": {},
   "outputs": [],
   "source": []
  },
  {
   "cell_type": "code",
   "execution_count": null,
   "id": "058fba0d-accd-4005-8ccd-68dfbc5ad618",
   "metadata": {},
   "outputs": [],
   "source": []
  }
 ],
 "metadata": {
  "environment": {
   "kernel": "python3",
   "name": "common-cpu.m110",
   "type": "gcloud",
   "uri": "gcr.io/deeplearning-platform-release/base-cpu:m110"
  },
  "kernelspec": {
   "display_name": "Python 3",
   "language": "python",
   "name": "python3"
  },
  "language_info": {
   "codemirror_mode": {
    "name": "ipython",
    "version": 3
   },
   "file_extension": ".py",
   "mimetype": "text/x-python",
   "name": "python",
   "nbconvert_exporter": "python",
   "pygments_lexer": "ipython3",
   "version": "3.10.12"
  }
 },
 "nbformat": 4,
 "nbformat_minor": 5
}
